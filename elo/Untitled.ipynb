{
 "cells": [
  {
   "cell_type": "code",
   "execution_count": 6,
   "id": "3d6f3b7e",
   "metadata": {},
   "outputs": [
    {
     "name": "stdout",
     "output_type": "stream",
     "text": [
      "Finite Field of size 2\n",
      "x^2 + 1\n",
      "x^4 + x^2 + 1\n"
     ]
    }
   ],
   "source": [
    "k = GF(2)\n",
    "R.<x> = k[]\n",
    "k.extension(x^4 + x + 1, 'a')\n",
    "print(k)\n",
    "\n",
    "p = (x^2 + 1)\n",
    "\n",
    "print(p)\n",
    "\n",
    "#q = p.inverse_mod(-0.000000014134*x^5+0.000004410550*x^4-0.000514828250*x^3+0.030918434213*x^2-1.451289105497*x+52.299164352385)\n",
    "q = p.inverse_mod(x^5)\n",
    "\n",
    "print(q)"
   ]
  },
  {
   "cell_type": "code",
   "execution_count": 26,
   "id": "bb0eed2f",
   "metadata": {},
   "outputs": [
    {
     "name": "stdout",
     "output_type": "stream",
     "text": [
      "x |--> -1/42397*sqrt(-423970000000*x + 20756227288894) + 4481470/42397\n"
     ]
    }
   ],
   "source": [
    "var('x,y')\n",
    "f(x) = -0.0042397*x^2+.896294*x+1.5865602\n",
    "#f(x) = 2*x\n",
    "g(x) = solve(x == f(y), y)[0].rhs()\n",
    "print(g)"
   ]
  }
 ],
 "metadata": {
  "kernelspec": {
   "display_name": "SageMath 9.7",
   "language": "sage",
   "name": "sagemath-9.7"
  },
  "language_info": {
   "codemirror_mode": {
    "name": "ipython",
    "version": 3
   },
   "file_extension": ".py",
   "mimetype": "text/x-python",
   "name": "python",
   "nbconvert_exporter": "python",
   "pygments_lexer": "ipython3",
   "version": "3.10.5"
  }
 },
 "nbformat": 4,
 "nbformat_minor": 5
}
